{
 "cells": [
  {
   "cell_type": "markdown",
   "metadata": {},
   "source": [
    "# Challenge Back-end Python \n",
    "\n",
    "Desenvolver uma análise quantitativa e gráfica relacionando o aumento das ações da Petrobrás (PETR4) com as variações da taxa SELIC para os últimos 10 anos.\n",
    "\n",
    "## Objetivo\n",
    "Fazer um programa em python para:\n",
    "- Extrair as informações dos sites: https://www.infomoney.com.br/petrobras-petr4/cotacoes e \n",
    "https://www.bcb.gov.br/pec/copom/port/taxaselic.asp e tratá-las;\n",
    "- Armazenar as informações tratadas no SQLite;\n",
    " - Utilizar, de preferência, ORM (object relational mapping)\n",
    "- Ler as informações do banco e apresentar em formato gráfico.\n",
    "\n",
    "## Restrições\n",
    "- Utilizar a biblioteca pandas do Python\""
   ]
  },
  {
   "cell_type": "markdown",
   "metadata": {},
   "source": [
    "---\n",
    "## ETL\n",
    "- Vou utilizar a granularidade **anual** para a análise.\n",
    "- Será feito 2 scrapping. Para garantir um serviço menos monolítico farei cada scrapping separado. Desta forma é possível garantir uma melhor manutenção de código.\n",
    "\n",
    "\n",
    "## Granularidade anual\n",
    "- Tanto a taxa selic quanto a PETR4 devem ser de mesma granularidade\n",
    "- Nível do grão = ano\n",
    "- Isso garante insights mais fáceis entre os dados\n",
    "\n",
    "## Banco de dados\n",
    "- As 2 tabelas no banco de dados armazenam somente os dados de fechamento.\n",
    "- Acredito que assim trás uma análise mais fundamentalista sobre índices e ativos financeiros.\n",
    "- Fiz algumas conversões de tipo para armazenar a menor quantidade possível de dados. "
   ]
  },
  {
   "cell_type": "code",
   "execution_count": 16,
   "metadata": {},
   "outputs": [],
   "source": [
    "# Data analysis and data wrangling\n",
    "import numpy as np\n",
    "import pandas as pd\n",
    "\n",
    "# Plotting\n",
    "import matplotlib.pyplot as plt\n",
    "\n",
    "# Machine learning\n",
    "from sklearn.linear_model import LinearRegression\n",
    "\n",
    "# Other\n",
    "from IPython.display import Image\n",
    "from bs4 import BeautifulSoup\n",
    "from sqlalchemy import create_engine\n",
    "import IPython.terminal\n",
    "import configparser\n",
    "import subprocess\n",
    "import warnings\n",
    "import sqlite3\n",
    "import pprint\n",
    "import time\n",
    "import os"
   ]
  },
  {
   "cell_type": "markdown",
   "metadata": {},
   "source": [
    "## Preparação do diretório"
   ]
  },
  {
   "cell_type": "code",
   "execution_count": 17,
   "metadata": {},
   "outputs": [],
   "source": [
    "def prepare_directory_work(end_directory: str='notebooks'):\n",
    "    # Current path\n",
    "    curr_dir = os.path.dirname (os.path.realpath (\"__file__\")) \n",
    "    \n",
    "    if curr_dir.endswith(end_directory):\n",
    "        os.chdir('..')\n",
    "        return curr_dir\n",
    "    \n",
    "    return f'Current working directory: {curr_dir}'"
   ]
  },
  {
   "cell_type": "code",
   "execution_count": 21,
   "metadata": {},
   "outputs": [
    {
     "data": {
      "text/plain": [
       "'Current working directory: /home/campos/projetos/challenges/challenge-aawz'"
      ]
     },
     "execution_count": 21,
     "metadata": {},
     "output_type": "execute_result"
    }
   ],
   "source": [
    "prepare_directory_work(end_directory='notebooks')"
   ]
  },
  {
   "cell_type": "markdown",
   "metadata": {},
   "source": [
    "## Preparação do ambiente"
   ]
  },
  {
   "cell_type": "code",
   "execution_count": 22,
   "metadata": {
    "scrolled": false
   },
   "outputs": [
    {
     "name": "stdout",
     "output_type": "stream",
     "text": [
      "Requirements this project:\n",
      "\n",
      "matplotlib==3.1.1\n",
      "numpy==1.16.4\n",
      "pandas==0.24.2\n",
      "SQLAlchemy==1.3.5\n",
      "ipython==7.6.1\n",
      "beautifulsoup4==4.7.1\n",
      "scikit_learn==0.21.2\n",
      "atlas==0.27.0\n",
      "\n",
      "--------------------------------------------------\n",
      "Configuration Environment:\n",
      "\n",
      "OS:\n",
      "Linux\n",
      "Distributor ID:\tUbuntu\n",
      "Description:\tUbuntu 19.04\n",
      "Release:\t19.04\n",
      "Codename:\tdisco\n",
      "\n",
      "Python Version:\n",
      "Python 3.7.3\n",
      "\n",
      "Pip Version:\n",
      "pip 19.1.1 from /home/campos/projetos/challenges/challenge-aawz/src/environment/venv/lib/python3.7/site-packages/pip (python 3.7)\n",
      "\n",
      "Jupyter Version:\n",
      "4.4.0\n",
      "\n",
      "--------------------------------------------------\n",
      "\n",
      "Disk Usage:\n",
      "\n",
      "data:\n",
      "16K\tdata/\n",
      "\n",
      "virtual env:\n",
      "\n",
      "all:\n",
      "415M\t.\n",
      "\n",
      "--------------------------------------------------\n",
      "Structure This Project:\n",
      "\n",
      ".\n",
      "├── data\n",
      "│   └── desafio_AAWZ.db\n",
      "├── LICENSE\n",
      "├── notebooks\n",
      "│   └── challenge_aawz.ipynb\n",
      "├── README.md\n",
      "└── src\n",
      "    ├── challenge_aawz.py\n",
      "    ├── environment\n",
      "    │   ├── config_environment.txt\n",
      "    │   ├── container\n",
      "    │   │   └── Dockerfile\n",
      "    │   ├── create_requirements.sh\n",
      "    │   ├── create_virtual_env.sh\n",
      "    │   ├── __init__.py\n",
      "    │   ├── jupyter_notebook_config.py\n",
      "    │   ├── makefile\n",
      "    │   ├── prepare_env.py\n",
      "    │   ├── README.md\n",
      "    │   ├── requirements.txt\n",
      "    │   ├── show_config_environment.sh\n",
      "    │   ├── show_struture_project.sh\n",
      "    │   ├── struture_project.txt\n",
      "    │   ├── test_environment.py\n",
      "    │   ├── venv\n",
      "    │   └── virtualenv_requirements.txt\n",
      "    ├── etl_PETR4.py\n",
      "    ├── etl_SELIC.py\n",
      "    └── __init__.py\n",
      "\n",
      "6 directories, 23 files\n",
      "\n",
      "--------------------------------------------------\n"
     ]
    }
   ],
   "source": [
    "# from <package>.<module> import <class>\n",
    "from src.environment.prepare_env import *\n",
    "\n",
    "\n",
    "main()"
   ]
  },
  {
   "cell_type": "code",
   "execution_count": 69,
   "metadata": {
    "scrolled": false
   },
   "outputs": [
    {
     "name": "stdout",
     "output_type": "stream",
     "text": [
      "get page:  <Response [200]>\n",
      "<class 'pandas.core.frame.DataFrame'>\n",
      "Int64Index: 10 entries, 0 to 0\n",
      "Data columns (total 2 columns):\n",
      "Ano           10 non-null object\n",
      "Fechamento    10 non-null float64\n",
      "dtypes: float64(1), object(1)\n",
      "memory usage: 240.0+ bytes\n",
      "None\n",
      "\n",
      "PETR4 salvo!\n"
     ]
    }
   ],
   "source": [
    "!python3 src/etl_PETR4.py"
   ]
  },
  {
   "cell_type": "markdown",
   "metadata": {},
   "source": [
    "### Load"
   ]
  },
  {
   "cell_type": "code",
   "execution_count": 70,
   "metadata": {},
   "outputs": [],
   "source": [
    "# Create connection\n",
    "conn = sqlite3.connect('data/desafio_AAWZ.db')\n",
    "\n",
    "#load data\n",
    "df_petr4 = pd.read_sql_query(\"SELECT * FROM petr4\", conn)"
   ]
  },
  {
   "cell_type": "code",
   "execution_count": 71,
   "metadata": {},
   "outputs": [
    {
     "name": "stdout",
     "output_type": "stream",
     "text": [
      "    Ano  Fechamento\n",
      "0  2010   27.296875\n",
      "1  2011   21.484375\n",
      "2  2012   19.515625\n",
      "3  2013   17.078125\n",
      "4  2014   10.023438\n",
      "5  2015    6.699219\n",
      "6  2016   14.867188\n",
      "7  2017   16.093750\n",
      "8  2018   22.687500\n",
      "9  2019   27.390625\n"
     ]
    }
   ],
   "source": [
    "print(df_petr4)"
   ]
  },
  {
   "cell_type": "markdown",
   "metadata": {},
   "source": [
    "### Gráficos"
   ]
  },
  {
   "cell_type": "markdown",
   "metadata": {},
   "source": [
    "#### Gráfico PETR4"
   ]
  },
  {
   "cell_type": "code",
   "execution_count": 63,
   "metadata": {},
   "outputs": [
    {
     "data": {
      "image/png": "[encoded data removed]",
      "text/plain": [
       "<Figure size 432x288 with 1 Axes>"
      ]
     },
     "metadata": {
      "needs_background": "light"
     },
     "output_type": "display_data"
    }
   ],
   "source": [
    "# visualização do gráfico PETR4\\n\",\n",
    "x_petr4 = df_petr4['Ano']\n",
    "y_petr4 = df_petr4['Fechamento']\n",
    "\n",
    "fig, petr4_grafico = plt.subplots()\n",
    "plt.plot(x_petr4, y_petr4, color='blue', label='PETR4')\n",
    "plt.grid()\n",
    "plt.rcParams['figure.figsize'] = [18, 10] \n",
    "plt.xlabel('Tempo')\n",
    "plt.ylabel('Valor')\n",
    "plt.title(\"Variação do preço das ações PETR4\")\n",
    "plt.legend(loc=\"upper right\")\n",
    "plt.legend()\n",
    "plt.show()"
   ]
  },
  {
   "cell_type": "markdown",
   "metadata": {},
   "source": [
    "#### Plotagem no mesmo gráfico"
   ]
  },
  {
   "cell_type": "code",
   "execution_count": 16,
   "metadata": {},
   "outputs": [
    {
     "data": {
      "image/png": "[encoded data removed]",
      "text/plain": [
       "<Figure size 1080x576 with 1 Axes>"
      ]
     },
     "metadata": {},
     "output_type": "display_data"
    }
   ],
   "source": [
    "petr4_grafico = plt.plot(x_petr4, y_petr4, color='blue', label='PETR4')\n",
    "selic_grafico = plt.plot(x_selic, y_selic, color='green', label='Taxa SELIC')\n",
    "\n",
    "plt.grid()\n",
    "plt.rcParams['figure.figsize'] = [18, 10] \n",
    "plt.xlabel('Tempo')\n",
    "plt.ylabel('Valor')\n",
    "plt.title(\"PETR4 e SELIC nos últimos 10 anos\")\n",
    "plt.legend(loc=\"upper right\")\n",
    "plt.legend()\n",
    "plt.show()"
   ]
  },
  {
   "cell_type": "markdown",
   "metadata": {},
   "source": [
    "## Predição do fechamento do preço PETR4 a partir da taxa SELIC"
   ]
  },
  {
   "cell_type": "code",
   "execution_count": 31,
   "metadata": {
    "collapsed": true
   },
   "outputs": [],
   "source": [
    "from sklearn.linear_model import LinearRegression\n",
    "from sklearn.model_selection import train_test_split\n",
    "\n",
    "X = df_selic[['Taxa SELIC']]\n",
    "\n",
    "# escolhendo a variável dependente\\n\",\n",
    "y = df_petr4[['Fechamento']]\n",
    "\n",
    "# Split the data\n",
    "X_train, X_test, y_train, y_test = train_test_split(\n",
    "                                    X,\n",
    "                                    y,\n",
    "                                    test_size=0.20)"
   ]
  },
  {
   "cell_type": "code",
   "execution_count": 32,
   "metadata": {},
   "outputs": [
    {
     "name": "stdout",
     "output_type": "stream",
     "text": [
      "A predição do fechamento anual para PETR4, (se meta SELIC = 10) baseado numa regressão linear é: R$[[21.86948204]] reais.\n"
     ]
    }
   ],
   "source": [
    "model = LinearRegression()\n",
    "model = model.fit(X_train, y_train)\n",
    "y_pred_model = model.predict(X_test)\n",
    "\n",
    "# prediction valor aleatório\\n\",\n",
    "meta_selic = 10\n",
    "predicao_petr4 = model.predict(meta_selic)\n",
    "\n",
    "print(f'A predição do fechamento anual para PETR4, (se meta SELIC = {meta_selic}) baseado numa regressão linear é: R${predicao_petr4} reais.')"
   ]
  },
  {
   "cell_type": "markdown",
   "metadata": {},
   "source": [
    "---\n",
    "#### Copyright\n",
    "<a rel=\"license\" href=\"http://creativecommons.org/licenses/by-sa/4.0/\">\n",
    "    <img alt=\"Creative Commons License\" align=\"right\" style=\"border-width:0\" src=\"https://i.creativecommons.org/l/by-sa/4.0/88x31.png\" />\n",
    "</a>"
   ]
  },
  {
   "cell_type": "markdown",
   "metadata": {},
   "source": [
    "This work by Bruno A. R. M. Campos</span> is licensed under a <a rel=\"license\" href=\"http://creativecommons.org/licenses/by-sa/4.0/\">Creative Commons Attribution-ShareAlike 4.0 International License</a>."
   ]
  }
 ],
 "metadata": {
  "kernelspec": {
   "display_name": "Python 3",
   "language": "python",
   "name": "python3"
  },
  "language_info": {
   "codemirror_mode": {
    "name": "ipython",
    "version": 3
   },
   "file_extension": ".py",
   "mimetype": "text/x-python",
   "name": "python",
   "nbconvert_exporter": "python",
   "pygments_lexer": "ipython3",
   "version": "3.7.3"
  },
  "latex_envs": {
   "LaTeX_envs_menu_present": true,
   "autoclose": false,
   "autocomplete": true,
   "bibliofile": "biblio.bib",
   "cite_by": "apalike",
   "current_citInitial": 1,
   "eqLabelWithNumbers": true,
   "eqNumInitial": 1,
   "hotkeys": {
    "equation": "Ctrl-E",
    "itemize": "Ctrl-I"
   },
   "labels_anchors": false,
   "latex_user_defs": false,
   "report_style_numbering": false,
   "user_envs_cfg": false
  },
  "pycharm": {
   "stem_cell": {
    "cell_type": "raw",
    "metadata": {
     "collapsed": false
    },
    "source": []
   }
  },
  "toc": {
   "base_numbering": 1,
   "nav_menu": {},
   "number_sections": false,
   "sideBar": false,
   "skip_h1_title": false,
   "title_cell": "Table of Contents",
   "title_sidebar": "Contents",
   "toc_cell": false,
   "toc_position": {},
   "toc_section_display": false,
   "toc_window_display": false
  }
 },
 "nbformat": 4,
 "nbformat_minor": 2
}
